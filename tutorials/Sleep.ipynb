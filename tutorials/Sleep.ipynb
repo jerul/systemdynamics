{
 "cells": [
  {
   "cell_type": "markdown",
   "id": "74795c77",
   "metadata": {},
   "source": [
    "## Example: CLD on Sleep and Depressive symptoms\n",
    "In this example, we  implement a system dynamics model (SDM) analysis of a causal loop diagram (CLD) published as an example in the Education Corner article by Uleman et al (2024) doi: 10.1093/ije/dyae091. This CLD focuses on the feedback loops between sleep and depressive symptoms in young adults.\n",
    "\n",
    "In Kumu, the diagram looks as follows:\n",
    "\n",
    "<img src=\"Kumu/Sleep CLD.jpg\" alt=\"drawing\" width=\"800\"/>\n",
    "\n",
    "To analyze this CLD, we will first run the initialization file, which imports the settings and the Kumu file (should have the same name). We will then run the simulations with what-if scenarios, assess the intervention effects, conduct the feedback loop analysis, and perform sensitivity analysis over the model parameters."
   ]
  },
  {
   "cell_type": "code",
   "execution_count": 1,
   "id": "36588fb4",
   "metadata": {
    "tags": []
   },
   "outputs": [
    {
     "ename": "AttributeError",
     "evalue": "module 'systemdynamics' has no attribute 'Extract'",
     "output_type": "error",
     "traceback": [
      "\u001b[0;31m---------------------------------------------------------------------------\u001b[0m",
      "\u001b[0;31mAttributeError\u001b[0m                            Traceback (most recent call last)",
      "Cell \u001b[0;32mIn[1], line 4\u001b[0m\n\u001b[1;32m      1\u001b[0m \u001b[38;5;28;01mimport\u001b[39;00m \u001b[38;5;21;01msystemdynamics\u001b[39;00m \u001b[38;5;28;01mas\u001b[39;00m \u001b[38;5;21;01msd\u001b[39;00m\n\u001b[1;32m      3\u001b[0m setting_name \u001b[38;5;241m=\u001b[39m \u001b[38;5;124m\"\u001b[39m\u001b[38;5;124mSleep\u001b[39m\u001b[38;5;124m\"\u001b[39m  \u001b[38;5;66;03m# Specify the relevant name of the CLD (Excel and json file should match this name)  \u001b[39;00m\n\u001b[0;32m----> 4\u001b[0m extract \u001b[38;5;241m=\u001b[39m \u001b[43msd\u001b[49m\u001b[38;5;241;43m.\u001b[39;49m\u001b[43mExtract\u001b[49m(setting_name)  \u001b[38;5;66;03m# Load the relevant Kumu file extraction module\u001b[39;00m\n\u001b[1;32m      5\u001b[0m s \u001b[38;5;241m=\u001b[39m extract\u001b[38;5;241m.\u001b[39mextract_settings()  \u001b[38;5;66;03m# Extract the settings using the json file and the Kumu table\u001b[39;00m\n\u001b[1;32m      6\u001b[0m sdm \u001b[38;5;241m=\u001b[39m sd\u001b[38;5;241m.\u001b[39mSDM(s\u001b[38;5;241m.\u001b[39mdf_adj, s\u001b[38;5;241m.\u001b[39minteractions_matrix, s)  \u001b[38;5;66;03m# Load the module for formulating and simulating the SDM\u001b[39;00m\n",
      "\u001b[0;31mAttributeError\u001b[0m: module 'systemdynamics' has no attribute 'Extract'"
     ]
    }
   ],
   "source": [
    "import systemdynamics as sd\n",
    "\n",
    "setting_name = \"Sleep\"  # Specify the relevant name of the CLD (Excel and json file should match this name)  \n",
    "extract = sd.Extract(setting_name)  # Load the relevant Kumu file extraction module\n",
    "s = extract.extract_settings()  # Extract the settings using the json file and the Kumu table\n",
    "sdm = sd.SDM(s.df_adj, s.interactions_matrix, s)  # Load the module for formulating and simulating the SDM\n",
    "\n",
    "## Print the main simulating settings\n",
    "for sett in [\"N\", \"time_unit\", \"t_end\", \"dt\", \"variable_of_interest\", \"max_parameter_value\",\n",
    "             \"double_factor_interventions\", \"solve_analytically\"]:\n",
    "    print(sett, \"=\", vars(s)[sett])\n"
   ]
  },
  {
   "cell_type": "markdown",
   "id": "f75dec77",
   "metadata": {},
   "source": [
    "Given these settings, we can now run simulations from the SDM-converted CLD."
   ]
  },
  {
   "cell_type": "code",
   "execution_count": null,
   "id": "f4b83dda",
   "metadata": {},
   "outputs": [],
   "source": [
    "df_sol, param_samples = sdm.run_simulations()  # Run the simulated interventions\n",
    "intervention_effects = sdm.get_intervention_effects()  # Get the intervention effects\n",
    "top_plot = None  # Number of top interventions to plot\n",
    "sd.plots.plot_simulated_intervention_ranking(s, intervention_effects, top_plot=top_plot);  # Plot the simulated interventions ranking\n",
    "sd.plots.plot_simulated_interventions(s, df_sol, intervention_effects, interval_type=\"percentile\", confidence_bounds=.95, top_plot=top_plot);  # Plot the simulated interventions"
   ]
  },
  {
   "cell_type": "markdown",
   "id": "63c7070c",
   "metadata": {},
   "source": [
    "## Feedback loop analysis with Loops That Matter"
   ]
  },
  {
   "cell_type": "code",
   "execution_count": null,
   "id": "4ec0f8b5",
   "metadata": {},
   "outputs": [],
   "source": [
    "#assert s.interaction_terms == False, \"Interaction terms must be False for the feedback loop analysis.\"\n",
    "int_var = None  # If set to None the highest-ranked intervention variable will be used\n",
    "df_loops, loopscores_per_sample = sdm.run_loops_that_matter(int_var)  # Run the feedback loop analysis\n",
    "cut_off_loop_importance = 0.05\n",
    "sd.plots.plot_feedback_loops_ranking(s, df_loops, intervention_effects, int_var, cut_off_loop_importance);\n",
    "sd.plots.plot_feedback_loops_over_time(s, df_loops, intervention_effects, loopscores_per_sample, int_var, cut_off_loop_importance);"
   ]
  },
  {
   "cell_type": "markdown",
   "id": "5cf3b78e",
   "metadata": {},
   "source": [
    "## Sensitivity analysis"
   ]
  },
  {
   "cell_type": "code",
   "execution_count": null,
   "id": "ed4ecdef",
   "metadata": {},
   "outputs": [],
   "source": [
    "## Estimate spearman correlation for the model parameters, either for one intervention variable (int_var) or for all\n",
    "cut_off_SA_importance = 0.05\n",
    "input_var = True  # If True, the top-ranked intervention variable will be used\n",
    "outcome_var = False  # If True, the variable of interest will be used\n",
    "SA_results, df_SA = sdm.run_SA(outcome_var, input_var, int_var, cut_off_SA_importance)"
   ]
  }
 ],
 "metadata": {
  "kernelspec": {
   "display_name": "Python 3 (ipykernel)",
   "language": "python",
   "name": "python3"
  },
  "language_info": {
   "codemirror_mode": {
    "name": "ipython",
    "version": 3
   },
   "file_extension": ".py",
   "mimetype": "text/x-python",
   "name": "python",
   "nbconvert_exporter": "python",
   "pygments_lexer": "ipython3",
   "version": "3.11.4"
  }
 },
 "nbformat": 4,
 "nbformat_minor": 5
}
