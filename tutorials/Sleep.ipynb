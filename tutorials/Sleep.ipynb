{
 "cells": [
  {
   "cell_type": "markdown",
   "id": "74795c77",
   "metadata": {},
   "source": [
    "## Example: CLD on Sleep and Depressive symptoms\n",
    "In this example, we  implement a system dynamics model (SDM) analysis of a causal loop diagram (CLD) published as an example in the Education Corner article by Uleman et al (2024) doi: 10.1093/ije/dyae091. This CLD focuses on the feedback loops between sleep and depressive symptoms in young adults.\n",
    "\n",
    "In Kumu, the diagram looks as follows:\n",
    "\n",
    "<img src=\"Sleep CLD.jpg\" alt=\"drawing\" width=\"800\"/>\n",
    "\n",
    "To analyze this CLD, we will first run the initialization file, which imports the settings and the Kumu file (should have the same name). We will then run the simulations with what-if scenarios, assess the intervention effects, conduct the feedback loop analysis, and perform sensitivity analysis over the model parameters."
   ]
  },
  {
   "cell_type": "code",
   "execution_count": 1,
   "id": "36588fb4",
   "metadata": {
    "tags": []
   },
   "outputs": [
    {
     "name": "stdout",
     "output_type": "stream",
     "text": [
      "Test for loading KUMU table passed.\n",
      "Without interaction terms, double factor interventions are not meaningful. Setting double_factor_interventions to False.\n",
      "Test comparison with vectorized implementation passed.\n",
      "Test comparison analytic and numerical solution for linear model passed.\n",
      "\n",
      " --- The following settings are used:\n",
      "N = 100\n",
      "time_unit = Months\n",
      "t_end = 12\n",
      "dt = 1\n",
      "variable_of_interest = Depressive_symptoms\n",
      "max_parameter_value = 0.2\n",
      "double_factor_interventions = 0\n",
      "solve_analytically = 1\n"
     ]
    }
   ],
   "source": [
    "from systemdynamics.cld import Extract\n",
    "from systemdynamics.sdm import SDM\n",
    "from systemdynamics.plots import plot_simulated_intervention_ranking, plot_simulated_interventions, plot_feedback_loops_ranking, plot_feedback_loops_over_time\n",
    "\n",
    "setting_name = \"Sleep\"  # Specify the relevant name of the CLD (Excel and json file should match this name)  \n",
    "extract = Extract(setting_name)  # Load the relevant Kumu file extraction module\n",
    "s = extract.extract_settings()  # Extract the settings using the json file and the Kumu table\n",
    "sdm = SDM(s.df_adj, s.interactions_matrix, s)  # Load the module for formulating and simulating the SDM\n",
    "\n",
    "## Print the main simulating settings\n",
    "print(\"\\n --- The following settings are used:\")\n",
    "for sett in [\"N\", \"time_unit\", \"t_end\", \"dt\", \"variable_of_interest\", \"max_parameter_value\",\n",
    "             \"double_factor_interventions\", \"solve_analytically\"]:\n",
    "    print(sett, \"=\", vars(s)[sett])"
   ]
  },
  {
   "cell_type": "markdown",
   "id": "f75dec77",
   "metadata": {},
   "source": [
    "Given these settings, we can now run simulations from the SDM-converted CLD."
   ]
  },
  {
   "cell_type": "code",
   "execution_count": null,
   "id": "f4b83dda",
   "metadata": {},
   "outputs": [],
   "source": [
    "df_sol, param_samples = sdm.run_simulations()  # Run the simulated interventions\n",
    "intervention_effects = sdm.get_intervention_effects()  # Get the intervention effects\n",
    "top_plot = None  # Number of top interventions to plot\n",
    "plot_simulated_intervention_ranking(s, intervention_effects, top_plot=top_plot);  # Plot the simulated interventions ranking\n",
    "plot_simulated_interventions(s, df_sol, intervention_effects, interval_type=\"percentile\", confidence_bounds=.95, top_plot=top_plot);  # Plot the simulated interventions"
   ]
  },
  {
   "cell_type": "markdown",
   "id": "63c7070c",
   "metadata": {},
   "source": [
    "## Feedback loop analysis with Loops That Matter"
   ]
  },
  {
   "cell_type": "code",
   "execution_count": null,
   "id": "4ec0f8b5",
   "metadata": {},
   "outputs": [],
   "source": [
    "#assert s.interaction_terms == False, \"Interaction terms must be False for the feedback loop analysis.\"\n",
    "int_var = None  # If set to None the highest-ranked intervention variable will be used\n",
    "df_loops, loopscores_per_sample = sdm.run_loops_that_matter(int_var)  # Run the feedback loop analysis\n",
    "cut_off_loop_importance = 0.05\n",
    "plot_feedback_loops_ranking(s, df_loops, intervention_effects, int_var, cut_off_loop_importance);\n",
    "plot_feedback_loops_over_time(s, df_loops, intervention_effects, loopscores_per_sample, int_var, cut_off_loop_importance);"
   ]
  },
  {
   "cell_type": "markdown",
   "id": "5cf3b78e",
   "metadata": {},
   "source": [
    "## Sensitivity analysis"
   ]
  },
  {
   "cell_type": "code",
   "execution_count": null,
   "id": "ed4ecdef",
   "metadata": {},
   "outputs": [],
   "source": [
    "## Estimate spearman correlation for the model parameters, either for one intervention variable (int_var) or for all\n",
    "cut_off_SA_importance = 0.05\n",
    "input_var = True  # If True, the top-ranked intervention variable will be used\n",
    "outcome_var = False  # If True, the variable of interest will be used\n",
    "SA_results, df_SA = sdm.run_SA(outcome_var, input_var, int_var, cut_off_SA_importance)"
   ]
  }
 ],
 "metadata": {
  "kernelspec": {
   "display_name": "Python 3 (ipykernel)",
   "language": "python",
   "name": "python3"
  },
  "language_info": {
   "codemirror_mode": {
    "name": "ipython",
    "version": 3
   },
   "file_extension": ".py",
   "mimetype": "text/x-python",
   "name": "python",
   "nbconvert_exporter": "python",
   "pygments_lexer": "ipython3",
   "version": "3.11.4"
  }
 },
 "nbformat": 4,
 "nbformat_minor": 5
}
